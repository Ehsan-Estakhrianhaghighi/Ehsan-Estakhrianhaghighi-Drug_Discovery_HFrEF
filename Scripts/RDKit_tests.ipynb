{
 "cells": [
  {
   "cell_type": "code",
   "execution_count": 1,
   "outputs": [
    {
     "name": "stderr",
     "output_type": "stream",
     "text": [
      "Failed to find the pandas get_adjustment() function to patch\n",
      "Failed to patch pandas - PandasTools will have limited functionality\n"
     ]
    }
   ],
   "source": [
    "import rdkit\n",
    "from rdkit import Chem\n",
    "from rdkit.Chem import PandasTools\n",
    "import pandas as pd"
   ],
   "metadata": {
    "collapsed": false,
    "ExecuteTime": {
     "end_time": "2024-02-24T17:58:38.694400200Z",
     "start_time": "2024-02-24T17:58:36.459427900Z"
    }
   }
  },
  {
   "cell_type": "code",
   "execution_count": 4,
   "outputs": [
    {
     "name": "stderr",
     "output_type": "stream",
     "text": [
      "Failed to patch pandas - unable to change molecule rendering\n"
     ]
    },
    {
     "name": "stdout",
     "output_type": "stream",
     "text": [
      "       chembl_id Mean_pAct Median_pAct  Min_pAct  Max_pAct Stdev_pAct  \\\n",
      "0  CHEMBL1188966   6.79588     6.79588   6.79588   6.79588         0.   \n",
      "1  CHEMBL1223708  7.958607    7.958607  7.958607  7.958607         0.   \n",
      "2  CHEMBL1223709  7.346787    7.346787  7.346787  7.346787         0.   \n",
      "3  CHEMBL1223710  7.677781    7.677781  7.677781  7.677781         0.   \n",
      "4  CHEMBL1223767  7.167491    7.167491  7.167491  7.167491         0.   \n",
      "\n",
      "  Count_pAct Standard_relation Confidence_score             ID  \\\n",
      "0          1                 =                9  CHEMBL1188966   \n",
      "1          1                 =                9  CHEMBL1223708   \n",
      "2          1                 =                9  CHEMBL1223709   \n",
      "3          1                 =                9  CHEMBL1223710   \n",
      "4          1                 =                9  CHEMBL1223767   \n",
      "\n",
      "                                               ROMol  \n",
      "0  <rdkit.Chem.rdchem.Mol object at 0x000001DA631...  \n",
      "1  <rdkit.Chem.rdchem.Mol object at 0x000001DA631...  \n",
      "2  <rdkit.Chem.rdchem.Mol object at 0x000001DA631...  \n",
      "3  <rdkit.Chem.rdchem.Mol object at 0x000001DA631...  \n",
      "4  <rdkit.Chem.rdchem.Mol object at 0x000001DA631...  \n"
     ]
    }
   ],
   "source": [
    "# read in the data from an .sdf file\n",
    "df = PandasTools.LoadSDF('MCHR1_ChEMBL.sdf')\n",
    "print(df.head())"
   ],
   "metadata": {
    "collapsed": false,
    "ExecuteTime": {
     "end_time": "2024-02-24T17:59:39.534161200Z",
     "start_time": "2024-02-24T17:59:37.713462Z"
    }
   }
  },
  {
   "cell_type": "code",
   "execution_count": 8,
   "outputs": [
    {
     "data": {
      "text/plain": "<rdkit.Chem.rdchem.Mol at 0x1da631ba810>",
      "image/png": "[encoded data removed]"
     },
     "execution_count": 8,
     "metadata": {},
     "output_type": "execute_result"
    }
   ],
   "source": [
    "test_mol = df['ROMol'][2]\n",
    "test_mol"
   ],
   "metadata": {
    "collapsed": false,
    "ExecuteTime": {
     "end_time": "2024-02-24T18:02:10.935909Z",
     "start_time": "2024-02-24T18:02:10.921736800Z"
    }
   }
  },
  {
   "cell_type": "code",
   "execution_count": 10,
   "outputs": [
    {
     "data": {
      "text/plain": "'CC(=O)Nc1cccc(C2CCN(CCCNc3nc4ccccc4n3-c3cccc(Cl)c3)CC2)c1'"
     },
     "execution_count": 10,
     "metadata": {},
     "output_type": "execute_result"
    }
   ],
   "source": [
    "# convert the molecule to a SMILES string\n",
    "smiles = Chem.MolToSmiles(test_mol)\n",
    "smiles"
   ],
   "metadata": {
    "collapsed": false,
    "ExecuteTime": {
     "end_time": "2024-02-24T18:09:36.504356100Z",
     "start_time": "2024-02-24T18:09:36.494187400Z"
    }
   }
  },
  {
   "cell_type": "code",
   "execution_count": 11,
   "outputs": [],
   "source": [
    "# Lets extract features from the molecule\n",
    "from rdkit.Chem import Descriptors"
   ],
   "metadata": {
    "collapsed": false,
    "ExecuteTime": {
     "end_time": "2024-02-24T18:11:34.483243700Z",
     "start_time": "2024-02-24T18:11:34.318686100Z"
    }
   }
  },
  {
   "cell_type": "code",
   "execution_count": 22,
   "outputs": [
    {
     "data": {
      "text/plain": "mol_weight             502.062\nnum_atoms               36.000\nnum_heavy_atoms         36.000\nnum_rings                5.000\nnum_rotatable_bonds      8.000\nnum_aromatic_rings       4.000\nnum_hbd                  2.000\nnum_hba                  5.000\ndtype: float64"
     },
     "execution_count": 22,
     "metadata": {},
     "output_type": "execute_result"
    }
   ],
   "source": [
    "# Calculate the molecular weight\n",
    "mol_weight = Descriptors.MolWt(test_mol)\n",
    "# Calculate the number of atoms\n",
    "num_atoms = test_mol.GetNumAtoms()\n",
    "# Calculate the number of heavy atoms\n",
    "num_heavy_atoms = Descriptors.HeavyAtomCount(test_mol)\n",
    "# Calculate the number of rings\n",
    "num_rings = Descriptors.RingCount(test_mol)\n",
    "# Calculate the number of rotatable bonds\n",
    "num_rotatable_bonds = Descriptors.NumRotatableBonds(test_mol)\n",
    "# Calculate the number of aromatic rings\n",
    "num_aromatic_rings = Descriptors.NumAromaticRings(test_mol)\n",
    "# Calculate the number of hydrogen bond donors\n",
    "num_hbd = Descriptors.NumHDonors(test_mol)\n",
    "# Calculate the number of hydrogen bond acceptors\n",
    "num_hba = Descriptors.NumHAcceptors(test_mol)\n",
    "# put all the feature in a pandas series, label each feature appropriately\n",
    "features = pd.Series([mol_weight, num_atoms, num_heavy_atoms, num_rings, num_rotatable_bonds, num_aromatic_rings, num_hbd, num_hba])\n",
    "features.index = ['mol_weight', 'num_atoms', 'num_heavy_atoms', 'num_rings', 'num_rotatable_bonds', 'num_aromatic_rings', 'num_hbd', 'num_hba']\n",
    "features"
   ],
   "metadata": {
    "collapsed": false,
    "ExecuteTime": {
     "end_time": "2024-02-24T18:35:33.970934700Z",
     "start_time": "2024-02-24T18:35:33.949227800Z"
    }
   }
  },
  {
   "cell_type": "code",
   "execution_count": 24,
   "outputs": [
    {
     "name": "stdout",
     "output_type": "stream",
     "text": [
      "210\n"
     ]
    }
   ],
   "source": [
    "full_descriptors = Descriptors.CalcMolDescriptors(test_mol)\n",
    "print(len(full_descriptors))"
   ],
   "metadata": {
    "collapsed": false,
    "ExecuteTime": {
     "end_time": "2024-02-24T18:35:47.258839300Z",
     "start_time": "2024-02-24T18:35:47.233052700Z"
    }
   }
  },
  {
   "cell_type": "code",
   "execution_count": 21,
   "outputs": [
    {
     "name": "stdout",
     "output_type": "stream",
     "text": [
      "MaxAbsEStateIndex: 11.375775271366665\n",
      "MaxEStateIndex: 11.375775271366665\n",
      "MinAbsEStateIndex: 0.028969099771186224\n",
      "MinEStateIndex: -0.028969099771186224\n",
      "qed: 0.27726276328317295\n",
      "SPS: 14.722222222222221\n",
      "MolWt: 502.06200000000024\n",
      "HeavyAtomMolWt: 469.8060000000003\n",
      "ExactMolWt: 501.22953832400003\n",
      "NumValenceElectrons: 186\n",
      "NumRadicalElectrons: 0\n",
      "MaxPartialCharge: 0.22074755957619308\n",
      "MinPartialCharge: -0.3552777319836742\n",
      "MaxAbsPartialCharge: 0.3552777319836742\n",
      "MinAbsPartialCharge: 0.22074755957619308\n",
      "FpDensityMorgan1: 1.0277777777777777\n",
      "FpDensityMorgan2: 1.8333333333333333\n",
      "FpDensityMorgan3: 2.638888888888889\n",
      "BCUT2D_MWHI: 35.49569217926681\n",
      "BCUT2D_MWLOW: 9.889038706235073\n",
      "BCUT2D_CHGHI: 2.2051354140716772\n",
      "BCUT2D_CHGLO: -2.3197540176389926\n",
      "BCUT2D_LOGPHI: 2.298135122265209\n",
      "BCUT2D_LOGPLOW: -2.340036993304387\n",
      "BCUT2D_MRHI: 6.303065156558327\n",
      "BCUT2D_MRLOW: -0.11373836739527134\n",
      "AvgIpc: 3.2498694835947597\n",
      "BalabanJ: 1.1535059293026688\n",
      "BertzCT: 1342.5144639460864\n",
      "Chi0: 24.907202147189928\n",
      "Chi0n: 20.583154517743935\n",
      "Chi0v: 21.33908346376239\n",
      "Chi1: 17.56368328351281\n",
      "Chi1n: 12.63863345393423\n",
      "Chi1v: 13.016597926943456\n",
      "Chi2n: 9.442299407920148\n",
      "Chi2v: 9.878735188392133\n",
      "Chi3n: 6.827401356977092\n",
      "Chi3v: 7.062498459764831\n",
      "Chi4n: 5.087526475933189\n",
      "Chi4v: 5.272054855160818\n",
      "HallKierAlpha: -3.349999999999999\n",
      "Ipc: 218452118.8522125\n",
      "Kappa1: 24.349085594531065\n",
      "Kappa2: 11.145357931718909\n",
      "Kappa3: 5.717402814343207\n",
      "LabuteASA: 216.8339723066981\n",
      "PEOE_VSA1: 15.533486938863138\n",
      "PEOE_VSA10: 0.0\n",
      "PEOE_VSA11: 0.0\n",
      "PEOE_VSA12: 11.855519010338\n",
      "PEOE_VSA13: 0.0\n",
      "PEOE_VSA14: 0.0\n",
      "PEOE_VSA2: 9.361636831863176\n",
      "PEOE_VSA3: 4.9839785209472085\n",
      "PEOE_VSA4: 0.0\n",
      "PEOE_VSA5: 0.0\n",
      "PEOE_VSA6: 41.932775232540564\n",
      "PEOE_VSA7: 92.84266110360544\n",
      "PEOE_VSA8: 24.17851319402809\n",
      "PEOE_VSA9: 16.720787709916085\n",
      "SMR_VSA1: 4.794537184071822\n",
      "SMR_VSA10: 40.1772466104866\n",
      "SMR_VSA2: 0.0\n",
      "SMR_VSA3: 14.450987899589041\n",
      "SMR_VSA4: 0.0\n",
      "SMR_VSA5: 32.104108114630044\n",
      "SMR_VSA6: 36.812602831662964\n",
      "SMR_VSA7: 83.38248962697766\n",
      "SMR_VSA8: 0.0\n",
      "SMR_VSA9: 5.687386274683562\n",
      "SlogP_VSA1: 10.633577208012662\n",
      "SlogP_VSA10: 11.635725555670057\n",
      "SlogP_VSA11: 0.0\n",
      "SlogP_VSA12: 11.600939890232516\n",
      "SlogP_VSA2: 46.537193252590846\n",
      "SlogP_VSA3: 4.794537184071822\n",
      "SlogP_VSA4: 0.0\n",
      "SlogP_VSA5: 37.667559606327046\n",
      "SlogP_VSA6: 72.79640482153933\n",
      "SlogP_VSA7: 5.022633313741326\n",
      "SlogP_VSA8: 16.720787709916085\n",
      "SlogP_VSA9: 0.0\n",
      "TPSA: 62.190000000000005\n",
      "EState_VSA1: 0.0\n",
      "EState_VSA10: 4.794537184071822\n",
      "EState_VSA11: 0.0\n",
      "EState_VSA2: 5.907179729351506\n",
      "EState_VSA3: 10.940539359902719\n",
      "EState_VSA4: 73.79800375801447\n",
      "EState_VSA5: 5.563451491696996\n",
      "EState_VSA6: 6.923737199690624\n",
      "EState_VSA7: 48.53093654769288\n",
      "EState_VSA8: 44.36605486050093\n",
      "EState_VSA9: 16.584918411179725\n",
      "VSA_EState1: 2.140661912424889\n",
      "VSA_EState10: 6.278699987531072\n",
      "VSA_EState2: 18.767611432101653\n",
      "VSA_EState3: 7.170563545228408\n",
      "VSA_EState4: 5.235796242146362\n",
      "VSA_EState5: 1.3616913729323472\n",
      "VSA_EState6: 24.355315680494815\n",
      "VSA_EState7: 3.3238742838637156\n",
      "VSA_EState8: 5.643563321054517\n",
      "VSA_EState9: 0.0\n",
      "FractionCSP3: 0.3103448275862069\n",
      "HeavyAtomCount: 36\n",
      "NHOHCount: 2\n",
      "NOCount: 6\n",
      "NumAliphaticCarbocycles: 0\n",
      "NumAliphaticHeterocycles: 1\n",
      "NumAliphaticRings: 1\n",
      "NumAromaticCarbocycles: 3\n",
      "NumAromaticHeterocycles: 1\n",
      "NumAromaticRings: 4\n",
      "NumHAcceptors: 5\n",
      "NumHDonors: 2\n",
      "NumHeteroatoms: 7\n",
      "NumRotatableBonds: 8\n",
      "NumSaturatedCarbocycles: 0\n",
      "NumSaturatedHeterocycles: 1\n",
      "NumSaturatedRings: 1\n",
      "RingCount: 5\n",
      "MolLogP: 6.318900000000006\n",
      "MolMR: 148.34739999999977\n",
      "fr_Al_COO: 0\n",
      "fr_Al_OH: 0\n",
      "fr_Al_OH_noTert: 0\n",
      "fr_ArN: 0\n",
      "fr_Ar_COO: 0\n",
      "fr_Ar_N: 2\n",
      "fr_Ar_NH: 0\n",
      "fr_Ar_OH: 0\n",
      "fr_COO: 0\n",
      "fr_COO2: 0\n",
      "fr_C_O: 1\n",
      "fr_C_O_noCOO: 1\n",
      "fr_C_S: 0\n",
      "fr_HOCCN: 0\n",
      "fr_Imine: 0\n",
      "fr_NH0: 3\n",
      "fr_NH1: 2\n",
      "fr_NH2: 0\n",
      "fr_N_O: 0\n",
      "fr_Ndealkylation1: 0\n",
      "fr_Ndealkylation2: 1\n",
      "fr_Nhpyrrole: 0\n",
      "fr_SH: 0\n",
      "fr_aldehyde: 0\n",
      "fr_alkyl_carbamate: 0\n",
      "fr_alkyl_halide: 0\n",
      "fr_allylic_oxid: 0\n",
      "fr_amide: 1\n",
      "fr_amidine: 0\n",
      "fr_aniline: 2\n",
      "fr_aryl_methyl: 0\n",
      "fr_azide: 0\n",
      "fr_azo: 0\n",
      "fr_barbitur: 0\n",
      "fr_benzene: 3\n",
      "fr_benzodiazepine: 0\n",
      "fr_bicyclic: 1\n",
      "fr_diazo: 0\n",
      "fr_dihydropyridine: 0\n",
      "fr_epoxide: 0\n",
      "fr_ester: 0\n",
      "fr_ether: 0\n",
      "fr_furan: 0\n",
      "fr_guanido: 0\n",
      "fr_halogen: 1\n",
      "fr_hdrzine: 0\n",
      "fr_hdrzone: 0\n",
      "fr_imidazole: 1\n",
      "fr_imide: 0\n",
      "fr_isocyan: 0\n",
      "fr_isothiocyan: 0\n",
      "fr_ketone: 0\n",
      "fr_ketone_Topliss: 0\n",
      "fr_lactam: 0\n",
      "fr_lactone: 0\n",
      "fr_methoxy: 0\n",
      "fr_morpholine: 0\n",
      "fr_nitrile: 0\n",
      "fr_nitro: 0\n",
      "fr_nitro_arom: 0\n",
      "fr_nitro_arom_nonortho: 0\n",
      "fr_nitroso: 0\n",
      "fr_oxazole: 0\n",
      "fr_oxime: 0\n",
      "fr_para_hydroxylation: 2\n",
      "fr_phenol: 0\n",
      "fr_phenol_noOrthoHbond: 0\n",
      "fr_phos_acid: 0\n",
      "fr_phos_ester: 0\n",
      "fr_piperdine: 1\n",
      "fr_piperzine: 0\n",
      "fr_priamide: 0\n",
      "fr_prisulfonamd: 0\n",
      "fr_pyridine: 0\n",
      "fr_quatN: 0\n",
      "fr_sulfide: 0\n",
      "fr_sulfonamd: 0\n",
      "fr_sulfone: 0\n",
      "fr_term_acetylene: 0\n",
      "fr_tetrazole: 0\n",
      "fr_thiazole: 0\n",
      "fr_thiocyan: 0\n",
      "fr_thiophene: 0\n",
      "fr_unbrch_alkane: 1\n",
      "fr_urea: 0\n"
     ]
    }
   ],
   "source": [
    "MaxAbsEStateIndex: 11.375775271366665\n",
    "MaxEStateIndex: 11.375775271366665\n",
    "MinAbsEStateIndex: 0.028969099771186224\n",
    "MinEStateIndex: -0.028969099771186224\n",
    "qed: 0.27726276328317295\n",
    "SPS: 14.722222222222221\n",
    "MolWt: 502.06200000000024\n",
    "HeavyAtomMolWt: 469.8060000000003\n",
    "ExactMolWt: 501.22953832400003\n",
    "NumValenceElectrons: 186\n",
    "NumRadicalElectrons: 0\n",
    "MaxPartialCharge: 0.22074755957619308\n",
    "MinPartialCharge: -0.3552777319836742\n",
    "MaxAbsPartialCharge: 0.3552777319836742\n",
    "MinAbsPartialCharge: 0.22074755957619308\n",
    "FpDensityMorgan1: 1.0277777777777777\n",
    "FpDensityMorgan2: 1.8333333333333333\n",
    "FpDensityMorgan3: 2.638888888888889\n",
    "BCUT2D_MWHI: 35.49569217926681\n",
    "BCUT2D_MWLOW: 9.889038706235073\n",
    "BCUT2D_CHGHI: 2.2051354140716772\n",
    "BCUT2D_CHGLO: -2.3197540176389926\n",
    "BCUT2D_LOGPHI: 2.298135122265209\n",
    "BCUT2D_LOGPLOW: -2.340036993304387\n",
    "BCUT2D_MRHI: 6.303065156558327\n",
    "BCUT2D_MRLOW: -0.11373836739527134\n",
    "AvgIpc: 3.2498694835947597\n",
    "BalabanJ: 1.1535059293026688\n",
    "BertzCT: 1342.5144639460864\n",
    "Chi0: 24.907202147189928\n",
    "Chi0n: 20.583154517743935\n",
    "Chi0v: 21.33908346376239\n",
    "Chi1: 17.56368328351281\n",
    "Chi1n: 12.63863345393423\n",
    "Chi1v: 13.016597926943456\n",
    "Chi2n: 9.442299407920148\n",
    "Chi2v: 9.878735188392133\n",
    "Chi3n: 6.827401356977092\n",
    "Chi3v: 7.062498459764831\n",
    "Chi4n: 5.087526475933189\n",
    "Chi4v: 5.272054855160818\n",
    "HallKierAlpha: -3.349999999999999\n",
    "Ipc: 218452118.8522125\n",
    "Kappa1: 24.349085594531065\n",
    "Kappa2: 11.145357931718909\n",
    "Kappa3: 5.717402814343207\n",
    "LabuteASA: 216.8339723066981\n",
    "PEOE_VSA1: 15.533486938863138\n",
    "PEOE_VSA10: 0.0\n",
    "PEOE_VSA11: 0.0\n",
    "PEOE_VSA12: 11.855519010338\n",
    "PEOE_VSA13: 0.0\n",
    "PEOE_VSA14: 0.0\n",
    "PEOE_VSA2: 9.361636831863176\n",
    "PEOE_VSA3: 4.9839785209472085\n",
    "PEOE_VSA4: 0.0\n",
    "PEOE_VSA5: 0.0\n",
    "PEOE_VSA6: 41.932775232540564\n",
    "PEOE_VSA7: 92.84266110360544\n",
    "PEOE_VSA8: 24.17851319402809\n",
    "PEOE_VSA9: 16.720787709916085\n",
    "SMR_VSA1: 4.794537184071822\n",
    "SMR_VSA10: 40.1772466104866\n",
    "SMR_VSA2: 0.0\n",
    "SMR_VSA3: 14.450987899589041\n",
    "SMR_VSA4: 0.0\n",
    "SMR_VSA5: 32.104108114630044\n",
    "SMR_VSA6: 36.812602831662964\n",
    "SMR_VSA7: 83.38248962697766\n",
    "SMR_VSA8: 0.0\n",
    "SMR_VSA9: 5.687386274683562\n",
    "SlogP_VSA1: 10.633577208012662\n",
    "SlogP_VSA10: 11.635725555670057\n",
    "SlogP_VSA11: 0.0\n",
    "SlogP_VSA12: 11.600939890232516\n",
    "SlogP_VSA2: 46.537193252590846\n",
    "SlogP_VSA3: 4.794537184071822\n",
    "SlogP_VSA4: 0.0\n",
    "SlogP_VSA5: 37.667559606327046\n",
    "SlogP_VSA6: 72.79640482153933\n",
    "SlogP_VSA7: 5.022633313741326\n",
    "SlogP_VSA8: 16.720787709916085\n",
    "SlogP_VSA9: 0.0\n",
    "TPSA: 62.190000000000005\n",
    "EState_VSA1: 0.0\n",
    "EState_VSA10: 4.794537184071822\n",
    "EState_VSA11: 0.0\n",
    "EState_VSA2: 5.907179729351506\n",
    "EState_VSA3: 10.940539359902719\n",
    "EState_VSA4: 73.79800375801447\n",
    "EState_VSA5: 5.563451491696996\n",
    "EState_VSA6: 6.923737199690624\n",
    "EState_VSA7: 48.53093654769288\n",
    "EState_VSA8: 44.36605486050093\n",
    "EState_VSA9: 16.584918411179725\n",
    "VSA_EState1: 2.140661912424889\n",
    "VSA_EState10: 6.278699987531072\n",
    "VSA_EState2: 18.767611432101653\n",
    "VSA_EState3: 7.170563545228408\n",
    "VSA_EState4: 5.235796242146362\n",
    "VSA_EState5: 1.3616913729323472\n",
    "VSA_EState6: 24.355315680494815\n",
    "VSA_EState7: 3.3238742838637156\n",
    "VSA_EState8: 5.643563321054517\n",
    "VSA_EState9: 0.0\n",
    "FractionCSP3: 0.3103448275862069\n",
    "HeavyAtomCount: 36\n",
    "NHOHCount: 2\n",
    "NOCount: 6\n",
    "NumAliphaticCarbocycles: 0\n",
    "NumAliphaticHeterocycles: 1\n",
    "NumAliphaticRings: 1\n",
    "NumAromaticCarbocycles: 3\n",
    "NumAromaticHeterocycles: 1\n",
    "NumAromaticRings: 4\n",
    "NumHAcceptors: 5\n",
    "NumHDonors: 2\n",
    "NumHeteroatoms: 7\n",
    "NumRotatableBonds: 8\n",
    "NumSaturatedCarbocycles: 0\n",
    "NumSaturatedHeterocycles: 1\n",
    "NumSaturatedRings: 1\n",
    "RingCount: 5\n",
    "MolLogP: 6.318900000000006\n",
    "MolMR: 148.34739999999977\n",
    "fr_Al_COO: 0\n",
    "fr_Al_OH: 0\n",
    "fr_Al_OH_noTert: 0\n",
    "fr_ArN: 0\n",
    "fr_Ar_COO: 0\n",
    "fr_Ar_N: 2\n",
    "fr_Ar_NH: 0\n",
    "fr_Ar_OH: 0\n",
    "fr_COO: 0\n",
    "fr_COO2: 0\n",
    "fr_C_O: 1\n",
    "fr_C_O_noCOO: 1\n",
    "fr_C_S: 0\n",
    "fr_HOCCN: 0\n",
    "fr_Imine: 0\n",
    "fr_NH0: 3\n",
    "fr_NH1: 2\n",
    "fr_NH2: 0\n",
    "fr_N_O: 0\n",
    "fr_Ndealkylation1: 0\n",
    "fr_Ndealkylation2: 1\n",
    "fr_Nhpyrrole: 0\n",
    "fr_SH: 0\n",
    "fr_aldehyde: 0\n",
    "fr_alkyl_carbamate: 0\n",
    "fr_alkyl_halide: 0\n",
    "fr_allylic_oxid: 0\n",
    "fr_amide: 1\n",
    "fr_amidine: 0\n",
    "fr_aniline: 2\n",
    "fr_aryl_methyl: 0\n",
    "fr_azide: 0\n",
    "fr_azo: 0\n",
    "fr_barbitur: 0\n",
    "fr_benzene: 3\n",
    "fr_benzodiazepine: 0\n",
    "fr_bicyclic: 1\n",
    "fr_diazo: 0\n",
    "fr_dihydropyridine: 0\n",
    "fr_epoxide: 0\n",
    "fr_ester: 0\n",
    "fr_ether: 0\n",
    "fr_furan: 0\n",
    "fr_guanido: 0\n",
    "fr_halogen: 1\n",
    "fr_hdrzine: 0\n",
    "fr_hdrzone: 0\n",
    "fr_imidazole: 1\n",
    "fr_imide: 0\n",
    "fr_isocyan: 0\n",
    "fr_isothiocyan: 0\n",
    "fr_ketone: 0\n",
    "fr_ketone_Topliss: 0\n",
    "fr_lactam: 0\n",
    "fr_lactone: 0\n",
    "fr_methoxy: 0\n",
    "fr_morpholine: 0\n",
    "fr_nitrile: 0\n",
    "fr_nitro: 0\n",
    "fr_nitro_arom: 0\n",
    "fr_nitro_arom_nonortho: 0\n",
    "fr_nitroso: 0\n",
    "fr_oxazole: 0\n",
    "fr_oxime: 0\n",
    "fr_para_hydroxylation: 2\n",
    "fr_phenol: 0\n",
    "fr_phenol_noOrthoHbond: 0\n",
    "fr_phos_acid: 0\n",
    "fr_phos_ester: 0\n",
    "fr_piperdine: 1\n",
    "fr_piperzine: 0\n",
    "fr_priamide: 0\n",
    "fr_prisulfonamd: 0\n",
    "fr_pyridine: 0\n",
    "fr_quatN: 0\n",
    "fr_sulfide: 0\n",
    "fr_sulfonamd: 0\n",
    "fr_sulfone: 0\n",
    "fr_term_acetylene: 0\n",
    "fr_tetrazole: 0\n",
    "fr_thiazole: 0\n",
    "fr_thiocyan: 0\n",
    "fr_thiophene: 0\n",
    "fr_unbrch_alkane: 1\n",
    "fr_urea: 0\n",
    "for value, descriptor in full_descriptors.items():\n",
    "    print(f'{value}: {descriptor}')"
   ],
   "metadata": {
    "collapsed": false,
    "ExecuteTime": {
     "end_time": "2024-02-24T18:35:03.504763900Z",
     "start_time": "2024-02-24T18:35:03.497763100Z"
    }
   }
  },
  {
   "cell_type": "code",
   "execution_count": 26,
   "outputs": [],
   "source": [
    "# We can also calculate the fingerprints of the molecule. The fingerprints are a way to encode the structure of the molecule into a binary vector.\n",
    "# The most common type of fingerprint is the Morgan fingerprint, which is a circular fingerprint.\n",
    "# The Morgan fingerprint is calculated by taking the substructures of the molecule and encoding them into a binary vector.\n",
    "# The Morgan fingerprint is calculated using the GetMorganFingerprintAsBitVect function from the rdkit.Chem library.\n",
    "from rdkit.Chem import AllChem"
   ],
   "metadata": {
    "collapsed": false,
    "ExecuteTime": {
     "end_time": "2024-02-24T18:40:40.458572400Z",
     "start_time": "2024-02-24T18:40:40.452000100Z"
    }
   }
  },
  {
   "cell_type": "code",
   "execution_count": 30,
   "outputs": [
    {
     "name": "stdout",
     "output_type": "stream",
     "text": [
      "CHEMBL1223709\n",
      "     RDKit          2D\n",
      "\n",
      " 36 40  0  0  0  0  0  0  0  0999 V2000\n",
      "    1.8913    7.1612    0.0000 C   0  0  0  0  0  0  0  0  0  0  0  0\n",
      "    2.3038    6.4468    0.0000 C   0  0  0  0  0  0  0  0  0  0  0  0\n",
      "    3.1288    6.4468    0.0000 O   0  0  0  0  0  0  0  0  0  0  0  0\n",
      "    1.8913    5.7323    0.0000 N   0  0  0  0  0  0  0  0  0  0  0  0\n",
      "    2.3038    5.0178    0.0000 C   0  0  0  0  0  0  0  0  0  0  0  0\n",
      "    3.1288    5.0178    0.0000 C   0  0  0  0  0  0  0  0  0  0  0  0\n",
      "    3.5413    4.3034    0.0000 C   0  0  0  0  0  0  0  0  0  0  0  0\n",
      "    3.1288    3.5889    0.0000 C   0  0  0  0  0  0  0  0  0  0  0  0\n",
      "    2.3038    3.5889    0.0000 C   0  0  0  0  0  0  0  0  0  0  0  0\n",
      "    1.8913    4.3034    0.0000 C   0  0  0  0  0  0  0  0  0  0  0  0\n",
      "    1.8913    2.8744    0.0000 C   0  0  0  0  0  0  0  0  0  0  0  0\n",
      "    2.3038    2.1599    0.0000 C   0  0  0  0  0  0  0  0  0  0  0  0\n",
      "    1.8913    1.4455    0.0000 C   0  0  0  0  0  0  0  0  0  0  0  0\n",
      "    1.0663    1.4455    0.0000 N   0  0  0  0  0  0  0  0  0  0  0  0\n",
      "    0.6538    0.7310    0.0000 C   0  0  0  0  0  0  0  0  0  0  0  0\n",
      "   -0.1712    0.7310    0.0000 C   0  0  0  0  0  0  0  0  0  0  0  0\n",
      "   -0.5837    0.0165    0.0000 C   0  0  0  0  0  0  0  0  0  0  0  0\n",
      "   -0.1712   -0.6979    0.0000 N   0  0  0  0  0  0  0  0  0  0  0  0\n",
      "    0.6538   -0.6979    0.0000 C   0  0  0  0  0  0  0  0  0  0  0  0\n",
      "    1.1387   -0.0305    0.0000 N   0  0  0  0  0  0  0  0  0  0  0  0\n",
      "    1.9233   -0.2854    0.0000 C   0  0  0  0  0  0  0  0  0  0  0  0\n",
      "    2.6378    0.1271    0.0000 C   0  0  0  0  0  0  0  0  0  0  0  0\n",
      "    3.3523   -0.2854    0.0000 C   0  0  0  0  0  0  0  0  0  0  0  0\n",
      "    3.3523   -1.1104    0.0000 C   0  0  0  0  0  0  0  0  0  0  0  0\n",
      "    2.6378   -1.5229    0.0000 C   0  0  0  0  0  0  0  0  0  0  0  0\n",
      "    1.9233   -1.1104    0.0000 C   0  0  0  0  0  0  0  0  0  0  0  0\n",
      "    1.1387   -1.3654    0.0000 N   0  0  0  0  0  0  0  0  0  0  0  0\n",
      "    0.8838   -2.1500    0.0000 C   0  0  0  0  0  0  0  0  0  0  0  0\n",
      "    1.4358   -2.7631    0.0000 C   0  0  0  0  0  0  0  0  0  0  0  0\n",
      "    1.1809   -3.5477    0.0000 C   0  0  0  0  0  0  0  0  0  0  0  0\n",
      "    0.3739   -3.7192    0.0000 C   0  0  0  0  0  0  0  0  0  0  0  0\n",
      "   -0.1781   -3.1062    0.0000 C   0  0  0  0  0  0  0  0  0  0  0  0\n",
      "   -0.9851   -3.2777    0.0000 Cl  0  0  0  0  0  0  0  0  0  0  0  0\n",
      "    0.0768   -2.3215    0.0000 C   0  0  0  0  0  0  0  0  0  0  0  0\n",
      "    0.6538    2.1599    0.0000 C   0  0  0  0  0  0  0  0  0  0  0  0\n",
      "    1.0663    2.8744    0.0000 C   0  0  0  0  0  0  0  0  0  0  0  0\n",
      "  1  2  1  0\n",
      "  2  3  2  0\n",
      "  2  4  1  0\n",
      "  4  5  1  0\n",
      "  5  6  2  0\n",
      "  6  7  1  0\n",
      "  7  8  2  0\n",
      "  8  9  1  0\n",
      "  9 10  2  0\n",
      "  5 10  1  0\n",
      "  9 11  1  0\n",
      " 11 12  1  0\n",
      " 12 13  1  0\n",
      " 13 14  1  0\n",
      " 14 15  1  0\n",
      " 15 16  1  0\n",
      " 16 17  1  0\n",
      " 17 18  1  0\n",
      " 18 19  1  0\n",
      " 19 20  2  0\n",
      " 20 21  1  0\n",
      " 21 22  2  0\n",
      " 22 23  1  0\n",
      " 23 24  2  0\n",
      " 24 25  1  0\n",
      " 25 26  2  0\n",
      " 21 26  1  0\n",
      " 26 27  1  0\n",
      " 19 27  1  0\n",
      " 27 28  1  0\n",
      " 28 29  2  0\n",
      " 29 30  1  0\n",
      " 30 31  2  0\n",
      " 31 32  1  0\n",
      " 32 33  1  0\n",
      " 32 34  2  0\n",
      " 28 34  1  0\n",
      " 14 35  1  0\n",
      " 35 36  1  0\n",
      " 11 36  1  0\n",
      "M  END\n",
      "\n"
     ]
    }
   ],
   "source": [
    "fingerprints = AllChem.GetMorganFingerprintAsBitVect(test_mol, 2, nBits=1024)\n",
    "\n",
    "f = Chem.MolToMolBlock(test_mol)\n",
    "print(f)"
   ],
   "metadata": {
    "collapsed": false,
    "ExecuteTime": {
     "end_time": "2024-02-24T18:43:30.526869Z",
     "start_time": "2024-02-24T18:43:30.514940700Z"
    }
   }
  },
  {
   "cell_type": "code",
   "execution_count": 32,
   "outputs": [
    {
     "name": "stdout",
     "output_type": "stream",
     "text": [
      "0000000000000001000000000100000001000000000001000000000000000000100000000100000010000000000000000000000000000000000000000100000010000000000000000000000000000100000001000000000100000000100000010000000000000000000000001000000000000000000001000000010000000001000001000000000001000000000000000100000000000100000000000000000000000000000000000000000000000010000011000000000000000000001000000000000010000000000000000000000000000100000000000000000000000000000000001010000000000000000000000000000000000000000000000000000000000000000000000010000000000000000000000000000001000000000000000000000000010000100000000000000000000000000000000000000000000001000000000010010000010000000100000000000000010000000000000000000100000000000000000000001000000000000000000000000000000000000000010000000000000000100000001000010001100001000000000000000000000001000000000000000001000000000000000000000000010000000000010000010000000000000000000000000000000010000000010010000000001000000000000000000001000000100000000000000010000000000100000000000001010000\n"
     ]
    }
   ],
   "source": [
    "print(fingerprints.ToBitString())"
   ],
   "metadata": {
    "collapsed": false,
    "ExecuteTime": {
     "end_time": "2024-02-24T18:43:52.686136100Z",
     "start_time": "2024-02-24T18:43:52.678707400Z"
    }
   }
  },
  {
   "cell_type": "code",
   "execution_count": 33,
   "outputs": [
    {
     "data": {
      "text/plain": "<Figure size 300x300 with 1 Axes>",
      "image/png": "[encoded data removed]"
     },
     "execution_count": 33,
     "metadata": {},
     "output_type": "execute_result"
    },
    {
     "data": {
      "text/plain": "<Figure size 300x300 with 1 Axes>",
      "image/png": "[encoded data removed]"
     },
     "metadata": {},
     "output_type": "display_data"
    }
   ],
   "source": [
    "# show the molecule in 3D\n",
    "from rdkit.Chem import Draw\n",
    "Draw.MolToMPL(test_mol) # this will open a window with the 3D structure of the molecule"
   ],
   "metadata": {
    "collapsed": false,
    "ExecuteTime": {
     "end_time": "2024-02-24T21:24:01.966180400Z",
     "start_time": "2024-02-24T21:23:58.598504300Z"
    }
   }
  },
  {
   "cell_type": "code",
   "execution_count": null,
   "outputs": [],
   "source": [],
   "metadata": {
    "collapsed": false
   }
  }
 ],
 "metadata": {
  "kernelspec": {
   "display_name": "Python 3",
   "language": "python",
   "name": "python3"
  },
  "language_info": {
   "codemirror_mode": {
    "name": "ipython",
    "version": 2
   },
   "file_extension": ".py",
   "mimetype": "text/x-python",
   "name": "python",
   "nbconvert_exporter": "python",
   "pygments_lexer": "ipython2",
   "version": "2.7.6"
  }
 },
 "nbformat": 4,
 "nbformat_minor": 0
}
